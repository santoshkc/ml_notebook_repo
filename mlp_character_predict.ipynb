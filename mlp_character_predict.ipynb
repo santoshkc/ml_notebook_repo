{
 "cells": [
  {
   "cell_type": "code",
   "execution_count": 1,
   "metadata": {},
   "outputs": [],
   "source": [
    "import numpy as np\n",
    "import torch \n",
    "import torch.nn as nn \n",
    "import torch.nn.functional as F\n",
    "from matplotlib import pyplot as plt \n",
    "%matplotlib inline"
   ]
  },
  {
   "cell_type": "markdown",
   "metadata": {},
   "source": [
    "# Based upon Andrej Walkthough for character prediction using MLP\n",
    "\n",
    "**https://github.com/karpathy/nn-zero-to-hero/blob/master/lectures/makemore/makemore_part2_mlp.ipynb**"
   ]
  },
  {
   "cell_type": "code",
   "execution_count": 2,
   "metadata": {},
   "outputs": [],
   "source": [
    "file_path = './names.txt'\n",
    "with open(file_path, 'r') as file:\n",
    "    words = file.read().splitlines()"
   ]
  },
  {
   "cell_type": "code",
   "execution_count": 3,
   "metadata": {},
   "outputs": [],
   "source": [
    "from typing import List, NamedTuple, Dict\n",
    "\n",
    "class DataWrapper(NamedTuple):\n",
    "    xs: torch.Tensor\n",
    "    ys : torch.Tensor\n",
    "    char_index: Dict[str, int]\n",
    "    reverse_index: Dict[int, str]\n",
    "    alphabets: List[str]\n",
    "\n",
    "def prepare_lookup(words: List[str]):\n",
    "    alphabets = list( set( ''.join(words) ) )\n",
    "\n",
    "    char_index = { char: index + 1 for index, char in enumerate(alphabets) }\n",
    "    char_index['.'] = 0\n",
    "    reverse_index = { index: char for char, index in char_index.items() }\n",
    "\n",
    "    return char_index, reverse_index, alphabets\n",
    "\n",
    "def build_dataset(words: List[str], context_size: int = 3):\n",
    "    #words = words[:5]\n",
    "    \n",
    "    xs, ys = [], []\n",
    "\n",
    "    for word in words:\n",
    "        #print(word)\n",
    "        context = [0] * context_size\n",
    "        for char in word + '.' :\n",
    "            index = char_index[char]\n",
    "            xs.append(context)\n",
    "            ys.append(index)\n",
    "            #print(context, \"->\", index)\n",
    "            #print( ''.join(reverse_index[x] for x in context) )\n",
    "            context = context[1:] + [index]\n",
    "\n",
    "    return torch.tensor(xs), torch.tensor(ys)\n",
    "\n",
    "import random\n",
    "random.seed(42)\n",
    "random.shuffle(words)\n",
    "context_size = 3\n",
    "char_index, reverse_index, alphabets = prepare_lookup(words)\n"
   ]
  },
  {
   "cell_type": "markdown",
   "metadata": {},
   "source": [
    "**Create train, validation and test dataset with 80/10/10 split**"
   ]
  },
  {
   "cell_type": "code",
   "execution_count": 4,
   "metadata": {},
   "outputs": [],
   "source": [
    "total_samples = len(words)\n",
    "train_bound, val_bound = int(0.8 * total_samples), int(0.9 * total_samples)\n",
    "\n",
    "x_train, y_train = build_dataset(words[:train_bound], context_size)\n",
    "x_validation, y_validation = build_dataset(words[train_bound:val_bound], context_size)\n",
    "x_test, y_test = build_dataset(words[val_bound:], context_size)\n"
   ]
  },
  {
   "cell_type": "markdown",
   "metadata": {},
   "source": [
    "**Array indexing using both one-dimensional and multi-dimensional arrays.**\n",
    "\n",
    "**Various Ways to flatten tensor from particular dimension in order to match the shape downstream.**\n"
   ]
  },
  {
   "cell_type": "code",
   "execution_count": 5,
   "metadata": {},
   "outputs": [
    {
     "name": "stdout",
     "output_type": "stream",
     "text": [
      "Input shape: torch.Size([182625, 3]), output shape: torch.Size([182625])\n",
      "Shape of first embedding: torch.Size([182625, 3])\n",
      "Flattened tensor shape:  torch.Size([182625, 9])\n",
      "Flattened using unbind tensor shape:  torch.Size([182625, 9])\n",
      "Both are equivalient?: True\n",
      "Equivalent to above?: True\n"
     ]
    }
   ],
   "source": [
    "g = torch.Generator().manual_seed(1)\n",
    "embedding_dim = 3\n",
    "alphabet_size = len(char_index)\n",
    "\n",
    "char_lookup = torch.rand( ( alphabet_size, embedding_dim ), generator = g )\n",
    "\n",
    "indices = [ 0, 1, 0, 2, 0 ]\n",
    "#print(char_lookup[ indices ])\n",
    "\n",
    "# second column lookup and first column lookup\n",
    "char_lookup[ indices, 1 ], char_lookup[ indices, 0 ]\n",
    "\n",
    "# array indexing\n",
    "char_lookup[ indices ].shape, char_lookup[ indices, 0:2 ]\n",
    "\n",
    "xs = x_train\n",
    "ys = y_train\n",
    "print(f\"Input shape: {xs.shape}, output shape: {ys.shape}\")\n",
    "\n",
    "# multidimensional indexing\n",
    "embedding = char_lookup[ xs ] # embedding shape: (batch, context_size , embedding_dim )\n",
    "\n",
    "# convert to shape (batch, context_size * embedding_dim)\n",
    "# this is not scalable as addition of another embedding dimension results in code change\n",
    "first_embeddings, second_embeddings, third_embeddings = (embedding[:, 0, :], embedding[:, 1, :], embedding[:, 2, :])\n",
    "print(f\"Shape of first embedding: {first_embeddings.shape}\")\n",
    "\n",
    "intermediate_tensors = (first_embeddings, second_embeddings, third_embeddings)\n",
    "flattened_tensor = torch.cat(intermediate_tensors, dim=1)\n",
    "print(\"Flattened tensor shape: \", flattened_tensor.shape)\n",
    "\n",
    "# another(scalable) way to flatten tensors\n",
    "unbinded_tensors = torch.unbind(embedding, dim = 1)\n",
    "flattened_using_unbind = torch.cat(unbinded_tensors, dim=1)\n",
    "\n",
    "print( \"Flattened using unbind tensor shape: \", flattened_using_unbind.shape )\n",
    "print( f\"Both are equivalient?: {torch.equal(flattened_tensor, flattened_using_unbind)}\" )\n",
    "\n",
    "# efficent way to present view without extra tensor allocation\n",
    "embedding_view = embedding.view(-1, context_size * embedding_dim )\n",
    "print( f\"Equivalent to above?: {torch.equal(flattened_tensor, embedding_view)}\" )\n"
   ]
  },
  {
   "cell_type": "markdown",
   "metadata": {},
   "source": [
    "**Initialize network parameters with appropriate shape**"
   ]
  },
  {
   "cell_type": "code",
   "execution_count": 73,
   "metadata": {},
   "outputs": [
    {
     "name": "stdout",
     "output_type": "stream",
     "text": [
      "H1: Weights & Bias shape: torch.Size([9, 300]), torch.Size([300])\n",
      "H2: Weights & Bias shape: torch.Size([300, 27]), torch.Size([27])\n",
      "Total parameters:  11208\n"
     ]
    }
   ],
   "source": [
    "hidden_units = 300\n",
    "embedding = 3\n",
    "char_lookup = torch.rand( ( alphabet_size, embedding_dim ), generator = g )\n",
    "w1 = torch.rand( (context_size * embedding_dim, hidden_units), generator= g )\n",
    "b1 = torch.rand( (hidden_units) )\n",
    "\n",
    "w2 = torch.rand( (hidden_units, alphabet_size), generator = g )\n",
    "b2 = torch.rand( alphabet_size )\n",
    "\n",
    "print(f\"H1: Weights & Bias shape: {w1.shape}, {b1.shape}\")\n",
    "print(f\"H2: Weights & Bias shape: {w2.shape}, {b2.shape}\")\n",
    "\n",
    "parameters = [char_lookup, w1, b1, w2, b2]\n",
    "\n",
    "for p in parameters:\n",
    "    p.requires_grad = True\n",
    "\n",
    "print(\"Total parameters: \",  sum( p.nelement() for p in parameters ) )\n"
   ]
  },
  {
   "cell_type": "markdown",
   "metadata": {},
   "source": [
    "**Learning Rate tweaks**"
   ]
  },
  {
   "cell_type": "code",
   "execution_count": 74,
   "metadata": {},
   "outputs": [],
   "source": [
    "losses = []\n",
    "learning_rates_buffer = []\n",
    "\n",
    "sample_size = 64\n",
    "total_iteration = 30000\n",
    "\n",
    "linear_learning_rates = torch.linspace(0, 1, total_iteration)\n",
    "exp_learning_rate_range =  torch.linspace(-3, 0, total_iteration)\n",
    "\n",
    "exp_learning_rates = torch.pow(10, exp_learning_rate_range )"
   ]
  },
  {
   "cell_type": "markdown",
   "metadata": {},
   "source": [
    "**Training Loop for the MLP**"
   ]
  },
  {
   "cell_type": "code",
   "execution_count": 77,
   "metadata": {},
   "outputs": [
    {
     "name": "stdout",
     "output_type": "stream",
     "text": [
      "Final loss:  2.2341716289520264\n"
     ]
    }
   ],
   "source": [
    "for iteration in range(total_iteration):\n",
    "    # reseting embedding here is required\n",
    "    # otherwise ready for strange null reference error(might be due to reseting of gradient below) \n",
    "\n",
    "    samples_index = torch.randint(0, len(x_train), (sample_size,), generator= g)\n",
    "    mini_batch = x_train[samples_index]\n",
    "    \n",
    "    embedding = char_lookup[mini_batch]\n",
    "\n",
    "    # align shape of embedding and hidden layer\n",
    "    # inputs to network is context_size embeddings(embeeding dimension = embedding_dim)\n",
    "    embedding_view = embedding.view(-1, context_size * embedding_dim)\n",
    "    h1 = torch.tanh( embedding_view @ w1 + b1)\n",
    "\n",
    "    logits = (h1 @ w2) + b2\n",
    "    # efficeint way to compute loss \n",
    "    # cross entropy will not create intermediate tensors in memory\n",
    "    # instead uses fused kernels to compute efficiently all these clustered operations\n",
    "    # also backward pass(refer to tanh function) might be much simpler for gradient flow.\n",
    "    # Also, numerically well behaved i.e, no e^large_no = nan\n",
    "    nll = F.cross_entropy(logits, y_train[samples_index] )\n",
    "\n",
    "    reg_loss = 0.2 * ((w1**2).mean() + (w2**2).mean() ) # regularization loss\n",
    "\n",
    "    loss = nll + reg_loss\n",
    "\n",
    "    losses.append( loss.item())\n",
    "\n",
    "    for p in parameters:\n",
    "        p.grad = None\n",
    "\n",
    "    loss.backward()\n",
    "\n",
    "    #learning_rates = linear_learning_rates\n",
    "    learning_rates = exp_learning_rates\n",
    "\n",
    "    lr = 0.05 # this seems to work fine\n",
    "    \n",
    "    # lr = learning_rates[iteration]\n",
    "    #lr = exp_learning_rates[iteration]\n",
    "\n",
    "    learning_rates_buffer.append(lr)\n",
    "    #learning_rates_buffer.append(exp_learning_rate_range[iteration])\n",
    "\n",
    "    for p in parameters:\n",
    "        p.data += -lr*p.grad\n",
    "\n",
    "print(\"Final loss: \", loss.item())\n",
    "#plt.figure(figsize=(10,5))\n",
    "#plt.plot(learning_rates_buffer, losses)\n",
    "#plt.plot(np.arange(len(losses)), losses)\n",
    "#plt.plot(np.arange(len(learning_rates)), learning_rates)\n",
    "\n",
    "#Final loss:  2.192854881286621b\n"
   ]
  },
  {
   "cell_type": "markdown",
   "metadata": {},
   "source": [
    "**Loss Validation for train, validation & test split**"
   ]
  },
  {
   "cell_type": "code",
   "execution_count": 78,
   "metadata": {},
   "outputs": [
    {
     "name": "stdout",
     "output_type": "stream",
     "text": [
      "Train loss: 2.241743803024292\n",
      "Validation loss: 2.24857234954834\n",
      "Test loss: 2.2536461353302\n"
     ]
    }
   ],
   "source": [
    "def validation_loss(x_input: torch.Tensor, y_input: torch.Tensor, loss_message: str):\n",
    "\n",
    "    embedding = char_lookup[x_input]\n",
    "\n",
    "    embedding_view = embedding.view(-1, context_size * embedding_dim)\n",
    "    h1 = torch.tanh( embedding_view @ w1 + b1)\n",
    "\n",
    "    logits = (h1 @ w2) + b2\n",
    "    loss = F.cross_entropy(logits, y_input )\n",
    "\n",
    "    print(f\"{loss_message}: {loss.item()}\")\n",
    "\n",
    "validation_loss(x_train, y_train, \"Train loss\")\n",
    "validation_loss(x_validation, y_validation, \"Validation loss\")\n",
    "validation_loss(x_test, y_test, \"Test loss\")"
   ]
  },
  {
   "cell_type": "code",
   "execution_count": 15,
   "metadata": {},
   "outputs": [
    {
     "data": {
      "image/png": "[encoded data removed]",
      "text/plain": [
       "<Figure size 576x576 with 1 Axes>"
      ]
     },
     "metadata": {
      "needs_background": "light"
     },
     "output_type": "display_data"
    }
   ],
   "source": [
    "def visualize_embedding():\n",
    "    plt.figure( figsize = (8,8) )\n",
    "    plt.scatter(char_lookup[:, 0].data, char_lookup[:, 1].data, s=300)\n",
    "    for i in range(char_lookup.shape[0]):\n",
    "        plt.text(char_lookup[i, 0].item(), char_lookup[i, 1].item(), reverse_index[i], ha=\"center\", va=\"center\", color=\"white\")\n",
    "\n",
    "visualize_embedding()"
   ]
  },
  {
   "cell_type": "code",
   "execution_count": 42,
   "metadata": {},
   "outputs": [
    {
     "name": "stdout",
     "output_type": "stream",
     "text": [
      "aliwsilha\n",
      "amayriszosana\n",
      "ree\n",
      "kajalis\n",
      "tiveon\n",
      "kaine\n",
      "zadelaishansott\n",
      "adaim\n",
      "dirlya\n",
      "rith\n",
      "haelicleer\n",
      "ghinneri\n",
      "telyan\n",
      "thy\n",
      "kkadon\n",
      "chira\n",
      "anaera\n",
      "khaviy\n",
      "kyven\n",
      "eeshin\n"
     ]
    }
   ],
   "source": [
    "def generate_name(generator: torch.Generator, context_size: int = 3):\n",
    "  out = []\n",
    "  context = [0] * context_size # initialize with all ...\n",
    "  while True:\n",
    "    emb = char_lookup[torch.tensor([context])] # (1,block_size,d)\n",
    "    h = torch.tanh(emb.view(1, -1) @ w1 + b1)\n",
    "    logits = h @ w2 + b2\n",
    "    probs = F.softmax(logits, dim=1)\n",
    "    ix = torch.multinomial(probs, num_samples=1, generator = generator).item()\n",
    "    context = context[1:] + [ix]\n",
    "    if ix == 0:\n",
    "      break\n",
    "    out.append(ix)\n",
    "  return ''.join(reverse_index[i] for i in out)\n",
    "\n",
    "g = torch.Generator().manual_seed(42)\n",
    "for _ in range(20):\n",
    "  print(generate_name(g))"
   ]
  }
 ],
 "metadata": {
  "kernelspec": {
   "display_name": "Python 3.7.11 ('gpu-pytorch')",
   "language": "python",
   "name": "python3"
  },
  "language_info": {
   "codemirror_mode": {
    "name": "ipython",
    "version": 3
   },
   "file_extension": ".py",
   "mimetype": "text/x-python",
   "name": "python",
   "nbconvert_exporter": "python",
   "pygments_lexer": "ipython3",
   "version": "3.7.11"
  },
  "orig_nbformat": 4,
  "vscode": {
   "interpreter": {
    "hash": "13027ef6b548d478524874388772865ee1e69188a7bf08a433874e841914c872"
   }
  }
 },
 "nbformat": 4,
 "nbformat_minor": 2
}
